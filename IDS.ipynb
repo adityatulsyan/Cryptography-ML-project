{
 "cells": [
  {
   "cell_type": "markdown",
   "metadata": {},
   "source": [
    "# Building Intrusion Detection System using Artificial Neural Networks\n",
    "## Data Clean up and Pre-Processing"
   ]
  },
  {
   "cell_type": "code",
   "execution_count": 1,
   "metadata": {},
   "outputs": [],
   "source": [
    "#Importing desired modules\n",
    "import pandas as pd\n",
    "import numpy as np\n",
    "import matplotlib.pyplot as plt\n",
    "import seaborn as sns\n",
    "%matplotlib inline"
   ]
  },
  {
   "cell_type": "code",
   "execution_count": 2,
   "metadata": {},
   "outputs": [
    {
     "name": "stderr",
     "output_type": "stream",
     "text": [
      "/home/tulsyan/.local/lib/python3.6/site-packages/IPython/core/interactiveshell.py:3058: DtypeWarning: Columns (14,15) have mixed types. Specify dtype option on import or set low_memory=False.\n",
      "  interactivity=interactivity, compiler=compiler, result=result)\n"
     ]
    },
    {
     "name": "stdout",
     "output_type": "stream",
     "text": [
      "<class 'pandas.core.frame.DataFrame'>\n",
      "RangeIndex: 692703 entries, 0 to 692702\n",
      "Data columns (total 79 columns):\n",
      " Destination Port               692703 non-null int64\n",
      " Flow Duration                  692703 non-null int64\n",
      " Total Fwd Packets              692703 non-null int64\n",
      " Total Backward Packets         692703 non-null int64\n",
      "Total Length of Fwd Packets     692703 non-null int64\n",
      " Total Length of Bwd Packets    692703 non-null int64\n",
      " Fwd Packet Length Max          692703 non-null int64\n",
      " Fwd Packet Length Min          692703 non-null int64\n",
      " Fwd Packet Length Mean         692703 non-null float64\n",
      " Fwd Packet Length Std          692703 non-null float64\n",
      "Bwd Packet Length Max           692703 non-null int64\n",
      " Bwd Packet Length Min          692703 non-null int64\n",
      " Bwd Packet Length Mean         692703 non-null float64\n",
      " Bwd Packet Length Std          692703 non-null float64\n",
      "Flow Bytes/s                    691695 non-null object\n",
      " Flow Packets/s                 692703 non-null object\n",
      " Flow IAT Mean                  692703 non-null float64\n",
      " Flow IAT Std                   692703 non-null float64\n",
      " Flow IAT Max                   692703 non-null int64\n",
      " Flow IAT Min                   692703 non-null int64\n",
      "Fwd IAT Total                   692703 non-null int64\n",
      " Fwd IAT Mean                   692703 non-null float64\n",
      " Fwd IAT Std                    692703 non-null float64\n",
      " Fwd IAT Max                    692703 non-null int64\n",
      " Fwd IAT Min                    692703 non-null int64\n",
      "Bwd IAT Total                   692703 non-null int64\n",
      " Bwd IAT Mean                   692703 non-null float64\n",
      " Bwd IAT Std                    692703 non-null float64\n",
      " Bwd IAT Max                    692703 non-null int64\n",
      " Bwd IAT Min                    692703 non-null int64\n",
      "Fwd PSH Flags                   692703 non-null int64\n",
      " Bwd PSH Flags                  692703 non-null int64\n",
      " Fwd URG Flags                  692703 non-null int64\n",
      " Bwd URG Flags                  692703 non-null int64\n",
      " Fwd Header Length              692703 non-null int64\n",
      " Bwd Header Length              692703 non-null int64\n",
      "Fwd Packets/s                   692703 non-null float64\n",
      " Bwd Packets/s                  692703 non-null float64\n",
      " Min Packet Length              692703 non-null int64\n",
      " Max Packet Length              692703 non-null int64\n",
      " Packet Length Mean             692703 non-null float64\n",
      " Packet Length Std              692703 non-null float64\n",
      " Packet Length Variance         692703 non-null float64\n",
      "FIN Flag Count                  692703 non-null int64\n",
      " SYN Flag Count                 692703 non-null int64\n",
      " RST Flag Count                 692703 non-null int64\n",
      " PSH Flag Count                 692703 non-null int64\n",
      " ACK Flag Count                 692703 non-null int64\n",
      " URG Flag Count                 692703 non-null int64\n",
      " CWE Flag Count                 692703 non-null int64\n",
      " ECE Flag Count                 692703 non-null int64\n",
      " Down/Up Ratio                  692703 non-null int64\n",
      " Average Packet Size            692703 non-null float64\n",
      " Avg Fwd Segment Size           692703 non-null float64\n",
      " Avg Bwd Segment Size           692703 non-null float64\n",
      " Fwd Header Length.1            692703 non-null int64\n",
      "Fwd Avg Bytes/Bulk              692703 non-null int64\n",
      " Fwd Avg Packets/Bulk           692703 non-null int64\n",
      " Fwd Avg Bulk Rate              692703 non-null int64\n",
      " Bwd Avg Bytes/Bulk             692703 non-null int64\n",
      " Bwd Avg Packets/Bulk           692703 non-null int64\n",
      "Bwd Avg Bulk Rate               692703 non-null int64\n",
      "Subflow Fwd Packets             692703 non-null int64\n",
      " Subflow Fwd Bytes              692703 non-null int64\n",
      " Subflow Bwd Packets            692703 non-null int64\n",
      " Subflow Bwd Bytes              692703 non-null int64\n",
      "Init_Win_bytes_forward          692703 non-null int64\n",
      " Init_Win_bytes_backward        692703 non-null int64\n",
      " act_data_pkt_fwd               692703 non-null int64\n",
      " min_seg_size_forward           692703 non-null int64\n",
      "Active Mean                     692703 non-null float64\n",
      " Active Std                     692703 non-null float64\n",
      " Active Max                     692703 non-null int64\n",
      " Active Min                     692703 non-null int64\n",
      "Idle Mean                       692703 non-null float64\n",
      " Idle Std                       692703 non-null float64\n",
      " Idle Max                       692703 non-null int64\n",
      " Idle Min                       692703 non-null int64\n",
      " Label                          692703 non-null object\n",
      "dtypes: float64(22), int64(54), object(3)\n",
      "memory usage: 417.5+ MB\n"
     ]
    }
   ],
   "source": [
    "dataset = pd.read_csv(\"ids.csv\")\n",
    "df = pd.DataFrame(dataset)\n",
    "df.info()"
   ]
  },
  {
   "cell_type": "code",
   "execution_count": 3,
   "metadata": {},
   "outputs": [
    {
     "data": {
      "text/plain": [
       "Index([' Destination Port', ' Flow Duration', ' Total Fwd Packets',\n",
       "       ' Total Backward Packets', 'Total Length of Fwd Packets',\n",
       "       ' Total Length of Bwd Packets', ' Fwd Packet Length Max',\n",
       "       ' Fwd Packet Length Min', ' Fwd Packet Length Mean',\n",
       "       ' Fwd Packet Length Std', 'Bwd Packet Length Max',\n",
       "       ' Bwd Packet Length Min', ' Bwd Packet Length Mean',\n",
       "       ' Bwd Packet Length Std', 'Flow Bytes/s', ' Flow Packets/s',\n",
       "       ' Flow IAT Mean', ' Flow IAT Std', ' Flow IAT Max', ' Flow IAT Min',\n",
       "       'Fwd IAT Total', ' Fwd IAT Mean', ' Fwd IAT Std', ' Fwd IAT Max',\n",
       "       ' Fwd IAT Min', 'Bwd IAT Total', ' Bwd IAT Mean', ' Bwd IAT Std',\n",
       "       ' Bwd IAT Max', ' Bwd IAT Min', 'Fwd PSH Flags', ' Bwd PSH Flags',\n",
       "       ' Fwd URG Flags', ' Bwd URG Flags', ' Fwd Header Length',\n",
       "       ' Bwd Header Length', 'Fwd Packets/s', ' Bwd Packets/s',\n",
       "       ' Min Packet Length', ' Max Packet Length', ' Packet Length Mean',\n",
       "       ' Packet Length Std', ' Packet Length Variance', 'FIN Flag Count',\n",
       "       ' SYN Flag Count', ' RST Flag Count', ' PSH Flag Count',\n",
       "       ' ACK Flag Count', ' URG Flag Count', ' CWE Flag Count',\n",
       "       ' ECE Flag Count', ' Down/Up Ratio', ' Average Packet Size',\n",
       "       ' Avg Fwd Segment Size', ' Avg Bwd Segment Size',\n",
       "       ' Fwd Header Length.1', 'Fwd Avg Bytes/Bulk', ' Fwd Avg Packets/Bulk',\n",
       "       ' Fwd Avg Bulk Rate', ' Bwd Avg Bytes/Bulk', ' Bwd Avg Packets/Bulk',\n",
       "       'Bwd Avg Bulk Rate', 'Subflow Fwd Packets', ' Subflow Fwd Bytes',\n",
       "       ' Subflow Bwd Packets', ' Subflow Bwd Bytes', 'Init_Win_bytes_forward',\n",
       "       ' Init_Win_bytes_backward', ' act_data_pkt_fwd',\n",
       "       ' min_seg_size_forward', 'Active Mean', ' Active Std', ' Active Max',\n",
       "       ' Active Min', 'Idle Mean', ' Idle Std', ' Idle Max', ' Idle Min',\n",
       "       ' Label'],\n",
       "      dtype='object')"
      ]
     },
     "execution_count": 3,
     "metadata": {},
     "output_type": "execute_result"
    }
   ],
   "source": [
    "df.columns"
   ]
  },
  {
   "cell_type": "code",
   "execution_count": 4,
   "metadata": {},
   "outputs": [],
   "source": [
    "#Checking the shape of the complete datset\n",
    "df.shape\n",
    "#Rounding the data to two decimal places\n",
    "df = df.round(2)"
   ]
  },
  {
   "cell_type": "markdown",
   "metadata": {},
   "source": [
    "### 692703 rows × 79 columns is the size of the original data"
   ]
  },
  {
   "cell_type": "code",
   "execution_count": 5,
   "metadata": {},
   "outputs": [],
   "source": [
    "#Replacing infinity values with NaN\n",
    "df.replace([np.inf, -np.inf], np.nan)\n",
    "#Removing rows containing NaN \n",
    "df.dropna(how=\"any\", inplace = True)"
   ]
  },
  {
   "cell_type": "code",
   "execution_count": 6,
   "metadata": {},
   "outputs": [
    {
     "data": {
      "text/plain": [
       "(691695, 79)"
      ]
     },
     "execution_count": 6,
     "metadata": {},
     "output_type": "execute_result"
    }
   ],
   "source": [
    "#Shape after removinf NaNs\n",
    "df.shape"
   ]
  },
  {
   "cell_type": "code",
   "execution_count": 7,
   "metadata": {},
   "outputs": [],
   "source": [
    "# Since the data contains 79 parameters,which will require quite a lot of processing,\n",
    "# so we are dropping columns with either constant value or very much divergent values\n",
    "df = df.drop(df.std()[df.std() < .3].index.values, axis=1)\n",
    "df = df.drop(df.std()[df.std() > 1000].index.values, axis=1)"
   ]
  },
  {
   "cell_type": "code",
   "execution_count": 8,
   "metadata": {},
   "outputs": [
    {
     "data": {
      "text/plain": [
       "(691695, 24)"
      ]
     },
     "execution_count": 8,
     "metadata": {},
     "output_type": "execute_result"
    }
   ],
   "source": [
    "#new shape of the dataset after dropping the columns with divergent values\n",
    "df.shape"
   ]
  },
  {
   "cell_type": "code",
   "execution_count": 9,
   "metadata": {},
   "outputs": [
    {
     "data": {
      "text/plain": [
       "BENIGN              439972\n",
       "DoS Hulk            230124\n",
       "DoS GoldenEye        10293\n",
       "DoS slowloris         5796\n",
       "DoS Slowhttptest      5499\n",
       "Heartbleed              11\n",
       "Name:  Label, dtype: int64"
      ]
     },
     "execution_count": 9,
     "metadata": {},
     "output_type": "execute_result"
    }
   ],
   "source": [
    "#Various types of labels associated with the dataset\n",
    "df[' Label'].value_counts()"
   ]
  },
  {
   "cell_type": "markdown",
   "metadata": {},
   "source": [
    "<!-- ### Labels associated with data\n",
    "BENIGN              439972\n",
    "DoS Hulk            230124\n",
    "DoS GoldenEye        10293\n",
    "DoS slowloris         5796\n",
    "DoS Slowhttptest      5499\n",
    "Heartbleed              11 -->"
   ]
  },
  {
   "cell_type": "code",
   "execution_count": 10,
   "metadata": {},
   "outputs": [
    {
     "data": {
      "text/plain": [
       "([<matplotlib.patches.Wedge at 0x7f3f4bd7c518>,\n",
       "  <matplotlib.patches.Wedge at 0x7f3f4bd7cf60>,\n",
       "  <matplotlib.patches.Wedge at 0x7f3f4bd688d0>,\n",
       "  <matplotlib.patches.Wedge at 0x7f3f0de35240>,\n",
       "  <matplotlib.patches.Wedge at 0x7f3f0de35b70>,\n",
       "  <matplotlib.patches.Wedge at 0x7f3f0de254e0>],\n",
       " [Text(-1.1830056228811299, -0.5389783819705855, 'BENIGN'),\n",
       "  Text(1.4193539458189848, 0.4852158040378313, 'DoS Hulk'),\n",
       "  Text(0.2531206438489331, 1.681050248998376, 'DoS GoldenEye'),\n",
       "  Text(0.14497331574252167, 1.8944610678825309, 'DoS slowloris'),\n",
       "  Text(0.05265301616305486, 2.099339815248816, 'DoS Slowhttptest'),\n",
       "  Text(0.00012439429575789647, 2.499999996905212, 'Heartbleed')],\n",
       " [Text(-0.7280034602345413, -0.331679004289591, '63.6%'),\n",
       "  Text(0.9462359638793232, 0.3234772026918875, '33.3%'),\n",
       "  Text(0.17867339565807042, 1.1866237051753241, '1.5%'),\n",
       "  Text(0.10682244317870018, 1.3959186815976543, '0.8%'),\n",
       "  Text(0.040116583743279886, 1.5994970020943362, '0.8%'),\n",
       "  Text(9.951543660631718e-05, 1.9999999975241696, '0.0%')])"
      ]
     },
     "execution_count": 10,
     "metadata": {},
     "output_type": "execute_result"
    },
    {
     "data": {
      "image/png": "[encoded data removed]",
      "text/plain": [
       "<Figure size 432x288 with 1 Axes>"
      ]
     },
     "metadata": {},
     "output_type": "display_data"
    }
   ],
   "source": [
    "#Pie chart representing share of different type of Label\n",
    "labels = 'BENIGN', 'DoS Hulk', 'DoS GoldenEye', 'DoS slowloris', 'DoS Slowhttptest', 'Heartbleed'\n",
    "fig, ax = plt.subplots()\n",
    "values = df[' Label'].value_counts()\n",
    "explodeTuple = (0.2, 0.4, 0.6, 0.8, 1.0, 1.4)\n",
    "ax.pie(values, explode = explodeTuple, labels=labels, autopct='%1.1f%%',\n",
    "        shadow=True, startangle=90)"
   ]
  },
  {
   "cell_type": "code",
   "execution_count": 11,
   "metadata": {},
   "outputs": [
    {
     "data": {
      "text/plain": [
       "BENIGN    439972\n",
       "DoS       251723\n",
       "Name:  Label, dtype: int64"
      ]
     },
     "execution_count": 11,
     "metadata": {},
     "output_type": "execute_result"
    }
   ],
   "source": [
    "# Since distribution opf various Denial of Service (DoS) is highly irregular, we have clubbed them for better results\n",
    "df = df.replace('Heartbleed', 'DoS')\n",
    "df = df.replace('DoS GoldenEye', 'DoS')\n",
    "df = df.replace('DoS Slowhttptest', 'DoS')\n",
    "df = df.replace('DoS slowloris', 'DoS')\n",
    "df = df.replace('DoS Hulk', 'DoS')\n",
    "df[' Label'].value_counts()"
   ]
  },
  {
   "cell_type": "code",
   "execution_count": 12,
   "metadata": {},
   "outputs": [
    {
     "data": {
      "text/plain": [
       "(691406, 24)"
      ]
     },
     "execution_count": 12,
     "metadata": {},
     "output_type": "execute_result"
    }
   ],
   "source": [
    "df = df[~df['Flow Bytes/s'].isin(['Infinity'])]\n",
    "df = df[~df[' Flow Packets/s'].isin(['Infinity'])]\n",
    "df.shape"
   ]
  },
  {
   "cell_type": "code",
   "execution_count": 13,
   "metadata": {},
   "outputs": [],
   "source": [
    "#Processing aroung 700k data is quite a time consuming task, we are taking only 100k for our training and testing our model\n",
    "df = df.iloc[:100000]"
   ]
  },
  {
   "cell_type": "code",
   "execution_count": 14,
   "metadata": {},
   "outputs": [
    {
     "data": {
      "text/plain": [
       "(100000, 24)"
      ]
     },
     "execution_count": 14,
     "metadata": {},
     "output_type": "execute_result"
    }
   ],
   "source": [
    "#Final shape of the data after cleanup and pre-processing\n",
    "df.shape"
   ]
  },
  {
   "cell_type": "markdown",
   "metadata": {},
   "source": [
    "### 100000 rows × 24 columns is the size of the new data"
   ]
  },
  {
   "cell_type": "code",
   "execution_count": 15,
   "metadata": {},
   "outputs": [
    {
     "data": {
      "text/plain": [
       "BENIGN    64282\n",
       "DoS       35718\n",
       "Name:  Label, dtype: int64"
      ]
     },
     "execution_count": 15,
     "metadata": {},
     "output_type": "execute_result"
    }
   ],
   "source": [
    "df[' Label'].value_counts()"
   ]
  },
  {
   "cell_type": "code",
   "execution_count": 16,
   "metadata": {},
   "outputs": [
    {
     "data": {
      "text/plain": [
       "([<matplotlib.patches.Wedge at 0x7f3f4a9854e0>,\n",
       "  <matplotlib.patches.Wedge at 0x7f3f4a985e10>],\n",
       " [Text(-1.0812233877505313, -0.5205343271881928, 'BENIGN'),\n",
       "  Text(1.0812233877505315, 0.5205343271881923, 'DoS')],\n",
       " [Text(-0.6307136428544765, -0.30364502419311246, '64.3%'),\n",
       "  Text(0.6307136428544767, 0.3036450241931121, '35.7%')])"
      ]
     },
     "execution_count": 16,
     "metadata": {},
     "output_type": "execute_result"
    },
    {
     "data": {
      "image/png": "[encoded data removed]",
      "text/plain": [
       "<Figure size 432x288 with 1 Axes>"
      ]
     },
     "metadata": {},
     "output_type": "display_data"
    }
   ],
   "source": [
    "#Plotting pie chart of labels associated with row to show ratio of both types of Labels\n",
    "label = 'BENIGN', 'DoS'\n",
    "value = df[' Label'].value_counts()\n",
    "fig1, ax1 = plt.subplots()\n",
    "explodeTuple = (0.1, 0.1)\n",
    "ax1.pie(value, explode = explodeTuple, labels = label, autopct='%1.1f%%',\n",
    "        shadow=True, startangle=90)\n"
   ]
  },
  {
   "cell_type": "code",
   "execution_count": 17,
   "metadata": {},
   "outputs": [
    {
     "name": "stderr",
     "output_type": "stream",
     "text": [
      "/usr/lib/python3/dist-packages/h5py/__init__.py:36: FutureWarning: Conversion of the second argument of issubdtype from `float` to `np.floating` is deprecated. In future, it will be treated as `np.float64 == np.dtype(float).type`.\n",
      "  from ._conv import register_converters as _register_converters\n",
      "Using TensorFlow backend.\n",
      "/usr/local/lib/python3.6/dist-packages/tensorflow/python/framework/dtypes.py:516: FutureWarning: Passing (type, 1) or '1type' as a synonym of type is deprecated; in a future version of numpy, it will be understood as (type, (1,)) / '(1,)type'.\n",
      "  _np_qint8 = np.dtype([(\"qint8\", np.int8, 1)])\n",
      "/usr/local/lib/python3.6/dist-packages/tensorflow/python/framework/dtypes.py:517: FutureWarning: Passing (type, 1) or '1type' as a synonym of type is deprecated; in a future version of numpy, it will be understood as (type, (1,)) / '(1,)type'.\n",
      "  _np_quint8 = np.dtype([(\"quint8\", np.uint8, 1)])\n",
      "/usr/local/lib/python3.6/dist-packages/tensorflow/python/framework/dtypes.py:518: FutureWarning: Passing (type, 1) or '1type' as a synonym of type is deprecated; in a future version of numpy, it will be understood as (type, (1,)) / '(1,)type'.\n",
      "  _np_qint16 = np.dtype([(\"qint16\", np.int16, 1)])\n",
      "/usr/local/lib/python3.6/dist-packages/tensorflow/python/framework/dtypes.py:519: FutureWarning: Passing (type, 1) or '1type' as a synonym of type is deprecated; in a future version of numpy, it will be understood as (type, (1,)) / '(1,)type'.\n",
      "  _np_quint16 = np.dtype([(\"quint16\", np.uint16, 1)])\n",
      "/usr/local/lib/python3.6/dist-packages/tensorflow/python/framework/dtypes.py:520: FutureWarning: Passing (type, 1) or '1type' as a synonym of type is deprecated; in a future version of numpy, it will be understood as (type, (1,)) / '(1,)type'.\n",
      "  _np_qint32 = np.dtype([(\"qint32\", np.int32, 1)])\n",
      "/usr/local/lib/python3.6/dist-packages/tensorflow/python/framework/dtypes.py:525: FutureWarning: Passing (type, 1) or '1type' as a synonym of type is deprecated; in a future version of numpy, it will be understood as (type, (1,)) / '(1,)type'.\n",
      "  np_resource = np.dtype([(\"resource\", np.ubyte, 1)])\n",
      "/usr/local/lib/python3.6/dist-packages/tensorboard/compat/tensorflow_stub/dtypes.py:541: FutureWarning: Passing (type, 1) or '1type' as a synonym of type is deprecated; in a future version of numpy, it will be understood as (type, (1,)) / '(1,)type'.\n",
      "  _np_qint8 = np.dtype([(\"qint8\", np.int8, 1)])\n",
      "/usr/local/lib/python3.6/dist-packages/tensorboard/compat/tensorflow_stub/dtypes.py:542: FutureWarning: Passing (type, 1) or '1type' as a synonym of type is deprecated; in a future version of numpy, it will be understood as (type, (1,)) / '(1,)type'.\n",
      "  _np_quint8 = np.dtype([(\"quint8\", np.uint8, 1)])\n",
      "/usr/local/lib/python3.6/dist-packages/tensorboard/compat/tensorflow_stub/dtypes.py:543: FutureWarning: Passing (type, 1) or '1type' as a synonym of type is deprecated; in a future version of numpy, it will be understood as (type, (1,)) / '(1,)type'.\n",
      "  _np_qint16 = np.dtype([(\"qint16\", np.int16, 1)])\n",
      "/usr/local/lib/python3.6/dist-packages/tensorboard/compat/tensorflow_stub/dtypes.py:544: FutureWarning: Passing (type, 1) or '1type' as a synonym of type is deprecated; in a future version of numpy, it will be understood as (type, (1,)) / '(1,)type'.\n",
      "  _np_quint16 = np.dtype([(\"quint16\", np.uint16, 1)])\n",
      "/usr/local/lib/python3.6/dist-packages/tensorboard/compat/tensorflow_stub/dtypes.py:545: FutureWarning: Passing (type, 1) or '1type' as a synonym of type is deprecated; in a future version of numpy, it will be understood as (type, (1,)) / '(1,)type'.\n",
      "  _np_qint32 = np.dtype([(\"qint32\", np.int32, 1)])\n",
      "/usr/local/lib/python3.6/dist-packages/tensorboard/compat/tensorflow_stub/dtypes.py:550: FutureWarning: Passing (type, 1) or '1type' as a synonym of type is deprecated; in a future version of numpy, it will be understood as (type, (1,)) / '(1,)type'.\n",
      "  np_resource = np.dtype([(\"resource\", np.ubyte, 1)])\n"
     ]
    }
   ],
   "source": [
    "#Importing various packages and libraries \n",
    "from sklearn.model_selection import train_test_split\n",
    "from sklearn import preprocessing\n",
    "from IPython.display import SVG\n",
    "import keras\n",
    "from keras.models import Sequential\n",
    "from keras.layers import Dense, Dropout, Activation\n",
    "from keras.optimizers import SGD\n",
    "from keras.utils.vis_utils import model_to_dot\n",
    "from keras.models import Sequential\n",
    "from keras.layers import Dense, Activation"
   ]
  },
  {
   "cell_type": "code",
   "execution_count": 18,
   "metadata": {},
   "outputs": [],
   "source": [
    "#Replacing labels with 1 and 0 for convenience\n",
    "df.replace(to_replace =\"BENIGN\", value = 1, inplace = True)\n",
    "df.replace(to_replace =\"DoS\", value = 0, inplace = True)"
   ]
  },
  {
   "cell_type": "code",
   "execution_count": 19,
   "metadata": {},
   "outputs": [
    {
     "data": {
      "text/html": [
       "<div>\n",
       "<style scoped>\n",
       "    .dataframe tbody tr th:only-of-type {\n",
       "        vertical-align: middle;\n",
       "    }\n",
       "\n",
       "    .dataframe tbody tr th {\n",
       "        vertical-align: top;\n",
       "    }\n",
       "\n",
       "    .dataframe thead th {\n",
       "        text-align: right;\n",
       "    }\n",
       "</style>\n",
       "<table border=\"1\" class=\"dataframe\">\n",
       "  <thead>\n",
       "    <tr style=\"text-align: right;\">\n",
       "      <th></th>\n",
       "      <th>Total Fwd Packets</th>\n",
       "      <th>Total Backward Packets</th>\n",
       "      <th>Fwd Packet Length Max</th>\n",
       "      <th>Fwd Packet Length Min</th>\n",
       "      <th>Fwd Packet Length Mean</th>\n",
       "      <th>Fwd Packet Length Std</th>\n",
       "      <th>Bwd Packet Length Min</th>\n",
       "      <th>Bwd Packet Length Mean</th>\n",
       "      <th>Flow Bytes/s</th>\n",
       "      <th>Flow Packets/s</th>\n",
       "      <th>...</th>\n",
       "      <th>ACK Flag Count</th>\n",
       "      <th>Down/Up Ratio</th>\n",
       "      <th>Average Packet Size</th>\n",
       "      <th>Avg Fwd Segment Size</th>\n",
       "      <th>Avg Bwd Segment Size</th>\n",
       "      <th>Subflow Fwd Packets</th>\n",
       "      <th>Subflow Bwd Packets</th>\n",
       "      <th>act_data_pkt_fwd</th>\n",
       "      <th>min_seg_size_forward</th>\n",
       "      <th>Label</th>\n",
       "    </tr>\n",
       "  </thead>\n",
       "  <tbody>\n",
       "    <tr>\n",
       "      <th>0</th>\n",
       "      <td>1</td>\n",
       "      <td>1</td>\n",
       "      <td>6</td>\n",
       "      <td>6</td>\n",
       "      <td>6.00</td>\n",
       "      <td>0.00</td>\n",
       "      <td>6</td>\n",
       "      <td>6.00</td>\n",
       "      <td>313.250496</td>\n",
       "      <td>52.208416</td>\n",
       "      <td>...</td>\n",
       "      <td>1</td>\n",
       "      <td>1</td>\n",
       "      <td>9.00</td>\n",
       "      <td>6.00</td>\n",
       "      <td>6.00</td>\n",
       "      <td>1</td>\n",
       "      <td>1</td>\n",
       "      <td>0</td>\n",
       "      <td>20</td>\n",
       "      <td>1</td>\n",
       "    </tr>\n",
       "    <tr>\n",
       "      <th>1</th>\n",
       "      <td>11</td>\n",
       "      <td>5</td>\n",
       "      <td>79</td>\n",
       "      <td>0</td>\n",
       "      <td>15.64</td>\n",
       "      <td>31.45</td>\n",
       "      <td>0</td>\n",
       "      <td>65.20</td>\n",
       "      <td>1039665.971</td>\n",
       "      <td>33402.92276</td>\n",
       "      <td>...</td>\n",
       "      <td>0</td>\n",
       "      <td>0</td>\n",
       "      <td>31.12</td>\n",
       "      <td>15.64</td>\n",
       "      <td>65.20</td>\n",
       "      <td>11</td>\n",
       "      <td>5</td>\n",
       "      <td>4</td>\n",
       "      <td>32</td>\n",
       "      <td>1</td>\n",
       "    </tr>\n",
       "    <tr>\n",
       "      <th>2</th>\n",
       "      <td>10</td>\n",
       "      <td>6</td>\n",
       "      <td>1575</td>\n",
       "      <td>0</td>\n",
       "      <td>315.00</td>\n",
       "      <td>632.56</td>\n",
       "      <td>0</td>\n",
       "      <td>525.00</td>\n",
       "      <td>5753424.658</td>\n",
       "      <td>14611.87215</td>\n",
       "      <td>...</td>\n",
       "      <td>0</td>\n",
       "      <td>0</td>\n",
       "      <td>393.75</td>\n",
       "      <td>315.00</td>\n",
       "      <td>525.00</td>\n",
       "      <td>10</td>\n",
       "      <td>6</td>\n",
       "      <td>3</td>\n",
       "      <td>32</td>\n",
       "      <td>1</td>\n",
       "    </tr>\n",
       "    <tr>\n",
       "      <th>3</th>\n",
       "      <td>17</td>\n",
       "      <td>12</td>\n",
       "      <td>1313</td>\n",
       "      <td>0</td>\n",
       "      <td>203.06</td>\n",
       "      <td>425.78</td>\n",
       "      <td>0</td>\n",
       "      <td>555.00</td>\n",
       "      <td>665000.6576</td>\n",
       "      <td>1907.141918</td>\n",
       "      <td>...</td>\n",
       "      <td>0</td>\n",
       "      <td>0</td>\n",
       "      <td>348.69</td>\n",
       "      <td>203.06</td>\n",
       "      <td>555.00</td>\n",
       "      <td>17</td>\n",
       "      <td>12</td>\n",
       "      <td>10</td>\n",
       "      <td>32</td>\n",
       "      <td>1</td>\n",
       "    </tr>\n",
       "    <tr>\n",
       "      <th>4</th>\n",
       "      <td>9</td>\n",
       "      <td>6</td>\n",
       "      <td>1575</td>\n",
       "      <td>0</td>\n",
       "      <td>350.00</td>\n",
       "      <td>694.51</td>\n",
       "      <td>0</td>\n",
       "      <td>525.33</td>\n",
       "      <td>5771062.271</td>\n",
       "      <td>13736.26374</td>\n",
       "      <td>...</td>\n",
       "      <td>0</td>\n",
       "      <td>0</td>\n",
       "      <td>420.13</td>\n",
       "      <td>350.00</td>\n",
       "      <td>525.33</td>\n",
       "      <td>9</td>\n",
       "      <td>6</td>\n",
       "      <td>2</td>\n",
       "      <td>32</td>\n",
       "      <td>1</td>\n",
       "    </tr>\n",
       "  </tbody>\n",
       "</table>\n",
       "<p>5 rows × 24 columns</p>\n",
       "</div>"
      ],
      "text/plain": [
       "    Total Fwd Packets   Total Backward Packets   Fwd Packet Length Max  \\\n",
       "0                   1                        1                       6   \n",
       "1                  11                        5                      79   \n",
       "2                  10                        6                    1575   \n",
       "3                  17                       12                    1313   \n",
       "4                   9                        6                    1575   \n",
       "\n",
       "    Fwd Packet Length Min   Fwd Packet Length Mean   Fwd Packet Length Std  \\\n",
       "0                       6                     6.00                    0.00   \n",
       "1                       0                    15.64                   31.45   \n",
       "2                       0                   315.00                  632.56   \n",
       "3                       0                   203.06                  425.78   \n",
       "4                       0                   350.00                  694.51   \n",
       "\n",
       "    Bwd Packet Length Min   Bwd Packet Length Mean Flow Bytes/s  \\\n",
       "0                       6                     6.00   313.250496   \n",
       "1                       0                    65.20  1039665.971   \n",
       "2                       0                   525.00  5753424.658   \n",
       "3                       0                   555.00  665000.6576   \n",
       "4                       0                   525.33  5771062.271   \n",
       "\n",
       "   Flow Packets/s  ...   ACK Flag Count   Down/Up Ratio   Average Packet Size  \\\n",
       "0       52.208416  ...                1               1                  9.00   \n",
       "1     33402.92276  ...                0               0                 31.12   \n",
       "2     14611.87215  ...                0               0                393.75   \n",
       "3     1907.141918  ...                0               0                348.69   \n",
       "4     13736.26374  ...                0               0                420.13   \n",
       "\n",
       "    Avg Fwd Segment Size   Avg Bwd Segment Size  Subflow Fwd Packets  \\\n",
       "0                   6.00                   6.00                    1   \n",
       "1                  15.64                  65.20                   11   \n",
       "2                 315.00                 525.00                   10   \n",
       "3                 203.06                 555.00                   17   \n",
       "4                 350.00                 525.33                    9   \n",
       "\n",
       "    Subflow Bwd Packets   act_data_pkt_fwd   min_seg_size_forward   Label  \n",
       "0                     1                  0                     20       1  \n",
       "1                     5                  4                     32       1  \n",
       "2                     6                  3                     32       1  \n",
       "3                    12                 10                     32       1  \n",
       "4                     6                  2                     32       1  \n",
       "\n",
       "[5 rows x 24 columns]"
      ]
     },
     "execution_count": 19,
     "metadata": {},
     "output_type": "execute_result"
    }
   ],
   "source": [
    "#First five rows of the data\n",
    "df.head()"
   ]
  },
  {
   "cell_type": "code",
   "execution_count": 20,
   "metadata": {},
   "outputs": [],
   "source": [
    "x = df.drop(' Label', 1)\n",
    "y = df[' Label']"
   ]
  },
  {
   "cell_type": "code",
   "execution_count": 21,
   "metadata": {},
   "outputs": [],
   "source": [
    "#Splitting data into train and test set\n",
    "X_train, X_test, y_train, y_test = train_test_split(x, y, test_size=0.2)"
   ]
  },
  {
   "cell_type": "code",
   "execution_count": 22,
   "metadata": {},
   "outputs": [],
   "source": [
    "X_train = np.array(X_train)\n",
    "X_test = np.array(X_test)\n",
    "y_train = np.array(y_train)\n",
    "y_test = np.array(y_test)"
   ]
  },
  {
   "cell_type": "code",
   "execution_count": 23,
   "metadata": {},
   "outputs": [],
   "source": [
    "min_max_scaler = preprocessing.MinMaxScaler()\n",
    "X_train = min_max_scaler.fit_transform(X_train)\n",
    "X_test = min_max_scaler.fit_transform(X_test)"
   ]
  },
  {
   "cell_type": "code",
   "execution_count": 24,
   "metadata": {},
   "outputs": [
    {
     "name": "stdout",
     "output_type": "stream",
     "text": [
      "Train images shape: (80000, 23)\n",
      "Train labels shape: (80000,)\n",
      "Test images shape: (20000, 23)\n",
      "Test labels shape: (20000,)\n",
      "Train labels: [0 1 1 ... 0 1 1]\n",
      "Test labels: [0 1 0 ... 0 0 0]\n"
     ]
    }
   ],
   "source": [
    "print('Train images shape:', X_train.shape)\n",
    "print('Train labels shape:', y_train.shape)\n",
    "print('Test images shape:', X_test.shape)\n",
    "print('Test labels shape:', y_test.shape)\n",
    "print('Train labels:', y_train)\n",
    "print('Test labels:', y_test)"
   ]
  },
  {
   "cell_type": "code",
   "execution_count": 25,
   "metadata": {},
   "outputs": [],
   "source": [
    "model = Sequential()\n",
    "model.add(Dense(256, activation='relu', input_dim = 23))\n",
    "model.add(Dropout(0.5))\n",
    "model.add(Dense(128, activation='relu'))\n",
    "model.add(Dropout(0.25))\n",
    "model.add(Dense(1, activation='sigmoid'))"
   ]
  },
  {
   "cell_type": "code",
   "execution_count": 26,
   "metadata": {},
   "outputs": [
    {
     "name": "stdout",
     "output_type": "stream",
     "text": [
      "WARNING:tensorflow:From /usr/local/lib/python3.6/dist-packages/tensorflow/python/ops/nn_impl.py:180: add_dispatch_support.<locals>.wrapper (from tensorflow.python.ops.array_ops) is deprecated and will be removed in a future version.\n",
      "Instructions for updating:\n",
      "Use tf.where in 2.0, which has the same broadcast rule as np.where\n"
     ]
    }
   ],
   "source": [
    "# For a binary classification problem\n",
    "from keras.optimizers import SGD\n",
    "opt = SGD(lr=0.01)\n",
    "model.compile(loss = \"binary_crossentropy\", optimizer = opt, metrics = ['accuracy'])"
   ]
  },
  {
   "cell_type": "code",
   "execution_count": 27,
   "metadata": {},
   "outputs": [
    {
     "name": "stdout",
     "output_type": "stream",
     "text": [
      "WARNING:tensorflow:From /usr/local/lib/python3.6/dist-packages/keras/backend/tensorflow_backend.py:422: The name tf.global_variables is deprecated. Please use tf.compat.v1.global_variables instead.\n",
      "\n",
      "Epoch 1/20\n",
      "80000/80000 [==============================] - 2s 26us/step - loss: 0.6034 - accuracy: 0.7245\n",
      "Epoch 2/20\n",
      "80000/80000 [==============================] - 2s 22us/step - loss: 0.4835 - accuracy: 0.8191\n",
      "Epoch 3/20\n",
      "80000/80000 [==============================] - 2s 24us/step - loss: 0.4340 - accuracy: 0.8240\n",
      "Epoch 4/20\n",
      "80000/80000 [==============================] - 2s 25us/step - loss: 0.4011 - accuracy: 0.8285\n",
      "Epoch 5/20\n",
      "80000/80000 [==============================] - 2s 25us/step - loss: 0.3689 - accuracy: 0.8339\n",
      "Epoch 6/20\n",
      "80000/80000 [==============================] - 2s 22us/step - loss: 0.3353 - accuracy: 0.8479\n",
      "Epoch 7/20\n",
      "80000/80000 [==============================] - 2s 22us/step - loss: 0.3027 - accuracy: 0.8633\n",
      "Epoch 8/20\n",
      "80000/80000 [==============================] - 2s 21us/step - loss: 0.2759 - accuracy: 0.8735\n",
      "Epoch 9/20\n",
      "80000/80000 [==============================] - 2s 22us/step - loss: 0.2575 - accuracy: 0.8778\n",
      "Epoch 10/20\n",
      "80000/80000 [==============================] - 2s 22us/step - loss: 0.2435 - accuracy: 0.8811\n",
      "Epoch 11/20\n",
      "80000/80000 [==============================] - 2s 22us/step - loss: 0.2324 - accuracy: 0.8849\n",
      "Epoch 12/20\n",
      "80000/80000 [==============================] - 2s 22us/step - loss: 0.2255 - accuracy: 0.8867\n",
      "Epoch 13/20\n",
      "80000/80000 [==============================] - 2s 22us/step - loss: 0.2179 - accuracy: 0.8901\n",
      "Epoch 14/20\n",
      "80000/80000 [==============================] - 2s 22us/step - loss: 0.2126 - accuracy: 0.8924\n",
      "Epoch 15/20\n",
      "80000/80000 [==============================] - 2s 22us/step - loss: 0.2072 - accuracy: 0.8952\n",
      "Epoch 16/20\n",
      "80000/80000 [==============================] - 2s 22us/step - loss: 0.2021 - accuracy: 0.8974\n",
      "Epoch 17/20\n",
      "80000/80000 [==============================] - 2s 22us/step - loss: 0.1983 - accuracy: 0.9003\n",
      "Epoch 18/20\n",
      "80000/80000 [==============================] - 2s 22us/step - loss: 0.1947 - accuracy: 0.9014\n",
      "Epoch 19/20\n",
      "80000/80000 [==============================] - 2s 22us/step - loss: 0.1913 - accuracy: 0.9037\n",
      "Epoch 20/20\n",
      "80000/80000 [==============================] - 2s 22us/step - loss: 0.1868 - accuracy: 0.9066\n"
     ]
    }
   ],
   "source": [
    "history = model.fit(X_train, y_train, epochs=20,\n",
    "          verbose=1, batch_size=100)"
   ]
  },
  {
   "cell_type": "code",
   "execution_count": 28,
   "metadata": {},
   "outputs": [
    {
     "name": "stdout",
     "output_type": "stream",
     "text": [
      "20000/20000 [==============================] - 0s 16us/step\n",
      "Test loss: 0.19741094299554826\n",
      "Test accuracy: 0.8965499997138977\n"
     ]
    }
   ],
   "source": [
    "score = model.evaluate(X_test, y_test, verbose=1)\n",
    "print('Test loss:', score[0])\n",
    "print('Test accuracy:', score[1])"
   ]
  },
  {
   "cell_type": "code",
   "execution_count": 29,
   "metadata": {},
   "outputs": [
    {
     "name": "stdout",
     "output_type": "stream",
     "text": [
      "dict_keys(['loss', 'accuracy'])\n"
     ]
    },
    {
     "ename": "KeyError",
     "evalue": "'val_accuracy'",
     "output_type": "error",
     "traceback": [
      "\u001b[0;31m---------------------------------------------------------------------------\u001b[0m",
      "\u001b[0;31mKeyError\u001b[0m                                  Traceback (most recent call last)",
      "\u001b[0;32m<ipython-input-29-7dab07ad3420>\u001b[0m in \u001b[0;36m<module>\u001b[0;34m\u001b[0m\n\u001b[1;32m      3\u001b[0m \u001b[0;31m# summarize history for accuracy\u001b[0m\u001b[0;34m\u001b[0m\u001b[0;34m\u001b[0m\u001b[0;34m\u001b[0m\u001b[0m\n\u001b[1;32m      4\u001b[0m \u001b[0mplt\u001b[0m\u001b[0;34m.\u001b[0m\u001b[0mplot\u001b[0m\u001b[0;34m(\u001b[0m\u001b[0mhistory\u001b[0m\u001b[0;34m.\u001b[0m\u001b[0mhistory\u001b[0m\u001b[0;34m[\u001b[0m\u001b[0;34m'accuracy'\u001b[0m\u001b[0;34m]\u001b[0m\u001b[0;34m)\u001b[0m\u001b[0;34m\u001b[0m\u001b[0;34m\u001b[0m\u001b[0m\n\u001b[0;32m----> 5\u001b[0;31m \u001b[0mplt\u001b[0m\u001b[0;34m.\u001b[0m\u001b[0mplot\u001b[0m\u001b[0;34m(\u001b[0m\u001b[0mhistory\u001b[0m\u001b[0;34m.\u001b[0m\u001b[0mhistory\u001b[0m\u001b[0;34m[\u001b[0m\u001b[0;34m'val_accuracy'\u001b[0m\u001b[0;34m]\u001b[0m\u001b[0;34m)\u001b[0m\u001b[0;34m\u001b[0m\u001b[0;34m\u001b[0m\u001b[0m\n\u001b[0m\u001b[1;32m      6\u001b[0m \u001b[0mplt\u001b[0m\u001b[0;34m.\u001b[0m\u001b[0mtitle\u001b[0m\u001b[0;34m(\u001b[0m\u001b[0;34m'model accuracy'\u001b[0m\u001b[0;34m)\u001b[0m\u001b[0;34m\u001b[0m\u001b[0;34m\u001b[0m\u001b[0m\n\u001b[1;32m      7\u001b[0m \u001b[0mplt\u001b[0m\u001b[0;34m.\u001b[0m\u001b[0mylabel\u001b[0m\u001b[0;34m(\u001b[0m\u001b[0;34m'accuracy'\u001b[0m\u001b[0;34m)\u001b[0m\u001b[0;34m\u001b[0m\u001b[0;34m\u001b[0m\u001b[0m\n",
      "\u001b[0;31mKeyError\u001b[0m: 'val_accuracy'"
     ]
    },
    {
     "data": {
      "image/png": "[encoded data removed]",
      "text/plain": [
       "<Figure size 432x288 with 1 Axes>"
      ]
     },
     "metadata": {
      "needs_background": "light"
     },
     "output_type": "display_data"
    }
   ],
   "source": [
    "# list all data in history\n",
    "print(history.history.keys())\n",
    "# summarize history for accuracy\n",
    "plt.plot(history.history['accuracy'])\n",
    "plt.plot(history.history['val_accuracy'])\n",
    "plt.title('model accuracy')\n",
    "plt.ylabel('accuracy')\n",
    "plt.xlabel('epoch')\n",
    "plt.legend(['train', 'test'], loc='upper left')\n",
    "plt.show()\n",
    "# summarize history for loss\n",
    "plt.plot(history.history['loss'])\n",
    "plt.plot(history.history['val_loss'])\n",
    "plt.title('model loss')\n",
    "plt.ylabel('loss')\n",
    "plt.xlabel('epoch')\n",
    "plt.legend(['train', 'test'], loc='upper left')\n",
    "plt.show()"
   ]
  },
  {
   "cell_type": "code",
   "execution_count": 30,
   "metadata": {},
   "outputs": [],
   "source": [
    "def plot_keras_model(model, show_shapes=True, show_layer_names=True):\n",
    "    from IPython.display import SVG\n",
    "    from keras.utils.vis_utils import model_to_dot\n",
    "    return SVG(model_to_dot(model, show_shapes=show_shapes, show_layer_names=show_layer_names).create(prog='dot', format='svg'))"
   ]
  },
  {
   "cell_type": "code",
   "execution_count": 31,
   "metadata": {},
   "outputs": [
    {
     "data": {
      "image/png": "[encoded data removed]",
      "text/plain": [
       "<IPython.core.display.Image object>"
      ]
     },
     "execution_count": 31,
     "metadata": {},
     "output_type": "execute_result"
    }
   ],
   "source": [
    "from keras.utils import plot_model\n",
    "plot_model(model, to_file='model.png')"
   ]
  },
  {
   "cell_type": "code",
   "execution_count": 32,
   "metadata": {},
   "outputs": [],
   "source": [
    "y_pred = model.predict(X_test)\n",
    "y_pred = (y_pred > 0.5)"
   ]
  },
  {
   "cell_type": "code",
   "execution_count": 33,
   "metadata": {},
   "outputs": [
    {
     "data": {
      "text/plain": [
       "array([[ 7171,    54],\n",
       "       [ 2015, 10760]])"
      ]
     },
     "execution_count": 33,
     "metadata": {},
     "output_type": "execute_result"
    }
   ],
   "source": [
    "# Creating the Confusion Matrix\n",
    "from sklearn.metrics import confusion_matrix\n",
    "cm = confusion_matrix(y_test, y_pred)\n",
    "cm"
   ]
  }
 ],
 "metadata": {
  "kernelspec": {
   "display_name": "Python 3",
   "language": "python",
   "name": "python3"
  },
  "language_info": {
   "codemirror_mode": {
    "name": "ipython",
    "version": 3
   },
   "file_extension": ".py",
   "mimetype": "text/x-python",
   "name": "python",
   "nbconvert_exporter": "python",
   "pygments_lexer": "ipython3",
   "version": "3.6.8"
  }
 },
 "nbformat": 4,
 "nbformat_minor": 2
}
